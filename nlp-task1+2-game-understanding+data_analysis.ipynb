{
 "cells": [
  {
   "cell_type": "markdown",
   "metadata": {},
   "source": [
    "**写在前面:**, 这次新闻文本分类的比赛是由DataWhale与阿里天池联合举办，定位为nlp入门级赛事，[这里有详细的赛题说明](https://tianchi.aliyun.com/competition/entrance/531810/information)"
   ]
  },
  {
   "cell_type": "markdown",
   "metadata": {},
   "source": [
    "## 问题置顶\n",
    "- 怎么选择df某一行的内容并将其转换为string类型\n",
    "- "
   ]
  },
  {
   "cell_type": "markdown",
   "metadata": {},
   "source": [
    "### 赛题理解\n",
    "- 任务目标：文本分类（14类）\n",
    "- 数据格式：每条样本由text和label组成；text进行了字符级的匿名处理（由数字表示原来的字符），label由0~13这14个数字组成，表示财经等14类文本。\n",
    "- 评价标准：f1  越高越好\n",
    "- 可选思路：TF-IDF+LR等传统分类模型；word2vec做特征+RNN+softmax；bert做特征+softmax分类"
   ]
  },
  {
   "cell_type": "markdown",
   "metadata": {},
   "source": [
    "### task2_0722 数据读取与数据分析\n",
    "- 查看训练集结构及规模\n",
    "- 获取最大text长度\n",
    "- 建立词典，获取词频"
   ]
  },
  {
   "cell_type": "code",
   "execution_count": 1,
   "metadata": {},
   "outputs": [],
   "source": [
    "import pandas as pd"
   ]
  },
  {
   "cell_type": "code",
   "execution_count": 9,
   "metadata": {},
   "outputs": [
    {
     "data": {
      "text/html": [
       "<div>\n",
       "<style scoped>\n",
       "    .dataframe tbody tr th:only-of-type {\n",
       "        vertical-align: middle;\n",
       "    }\n",
       "\n",
       "    .dataframe tbody tr th {\n",
       "        vertical-align: top;\n",
       "    }\n",
       "\n",
       "    .dataframe thead th {\n",
       "        text-align: right;\n",
       "    }\n",
       "</style>\n",
       "<table border=\"1\" class=\"dataframe\">\n",
       "  <thead>\n",
       "    <tr style=\"text-align: right;\">\n",
       "      <th></th>\n",
       "      <th>label\\ttext</th>\n",
       "    </tr>\n",
       "  </thead>\n",
       "  <tbody>\n",
       "    <tr>\n",
       "      <th>0</th>\n",
       "      <td>2\\t2967 6758 339 2021 1854 3731 4109 3792 4149...</td>\n",
       "    </tr>\n",
       "    <tr>\n",
       "      <th>1</th>\n",
       "      <td>11\\t4464 486 6352 5619 2465 4802 1452 3137 577...</td>\n",
       "    </tr>\n",
       "    <tr>\n",
       "      <th>2</th>\n",
       "      <td>3\\t7346 4068 5074 3747 5681 6093 1777 2226 735...</td>\n",
       "    </tr>\n",
       "    <tr>\n",
       "      <th>3</th>\n",
       "      <td>2\\t7159 948 4866 2109 5520 2490 211 3956 5520 ...</td>\n",
       "    </tr>\n",
       "    <tr>\n",
       "      <th>4</th>\n",
       "      <td>3\\t3646 3055 3055 2490 4659 6065 3370 5814 246...</td>\n",
       "    </tr>\n",
       "  </tbody>\n",
       "</table>\n",
       "</div>"
      ],
      "text/plain": [
       "                                         label\\ttext\n",
       "0  2\\t2967 6758 339 2021 1854 3731 4109 3792 4149...\n",
       "1  11\\t4464 486 6352 5619 2465 4802 1452 3137 577...\n",
       "2  3\\t7346 4068 5074 3747 5681 6093 1777 2226 735...\n",
       "3  2\\t7159 948 4866 2109 5520 2490 211 3956 5520 ...\n",
       "4  3\\t3646 3055 3055 2490 4659 6065 3370 5814 246..."
      ]
     },
     "execution_count": 9,
     "metadata": {},
     "output_type": "execute_result"
    }
   ],
   "source": [
    "train_path = 'train_set.csv/train_set.csv'\n",
    "train_set = pd.read_csv(train_path, encoding = 'utf-8')\n",
    "train_set.head()"
   ]
  },
  {
   "cell_type": "code",
   "execution_count": 13,
   "metadata": {},
   "outputs": [
    {
     "name": "stdout",
     "output_type": "stream",
     "text": [
      "<class 'pandas.core.frame.DataFrame'>\n",
      "RangeIndex: 200000 entries, 0 to 199999\n",
      "Data columns (total 1 columns):\n",
      " #   Column      Non-Null Count   Dtype \n",
      "---  ------      --------------   ----- \n",
      " 0   label\ttext  200000 non-null  object\n",
      "dtypes: object(1)\n",
      "memory usage: 1.5+ MB\n"
     ]
    }
   ],
   "source": [
    "train_set.info()"
   ]
  },
  {
   "cell_type": "code",
   "execution_count": 3,
   "metadata": {},
   "outputs": [
    {
     "data": {
      "text/plain": [
       "(200000, 1)"
      ]
     },
     "execution_count": 3,
     "metadata": {},
     "output_type": "execute_result"
    }
   ],
   "source": [
    "#看一下多少样本，每个样本几个属性\n",
    "train_set.shape"
   ]
  },
  {
   "cell_type": "code",
   "execution_count": 22,
   "metadata": {},
   "outputs": [
    {
     "data": {
      "text/plain": [
       "20000"
      ]
     },
     "execution_count": 22,
     "metadata": {},
     "output_type": "execute_result"
    }
   ],
   "source": [
    "#分别得到train_text 和 train_label\n",
    "\n",
    "#train_set.loc[0]['label\\ttext']\n",
    "train_text, train_label = [],[]\n",
    "for i in range(20000):\n",
    "    tmp = train_set.loc[i]['label\\ttext'].split('\\t')\n",
    "    a, b = tmp[1], tmp[0]\n",
    "    train_label.append(b)\n",
    "    train_text.append(a)\n",
    "    \n",
    "#将test list化\n",
    "train_text_lst = []\n",
    "for i in range(20000):\n",
    "    train_text_lst.append(train_text[i].split())\n",
    "len(train_text_lst)"
   ]
  },
  {
   "cell_type": "code",
   "execution_count": 27,
   "metadata": {},
   "outputs": [
    {
     "data": {
      "text/plain": [
       "44665"
      ]
     },
     "execution_count": 27,
     "metadata": {},
     "output_type": "execute_result"
    }
   ],
   "source": [
    "#获取最大的text长度\n",
    "def get_len_text(text_list):\n",
    "    Max = 0\n",
    "    for i, it in enumerate(text_list):\n",
    "        Max= len(it) if Max<len(it) else Max\n",
    "    return Max\n",
    "get_len_text(train_text_lst)"
   ]
  },
  {
   "cell_type": "code",
   "execution_count": 31,
   "metadata": {},
   "outputs": [
    {
     "name": "stdout",
     "output_type": "stream",
     "text": [
      "一共有18092357个words.\n"
     ]
    }
   ],
   "source": [
    "#先把所有word都放到all_words里面\n",
    "all_words = []\n",
    "for i in train_text_lst:\n",
    "    for j in i:\n",
    "        all_words.append(j)\n",
    "print(\"一共有\"+str(len(all_words))+\"个words.\")"
   ]
  },
  {
   "cell_type": "code",
   "execution_count": 37,
   "metadata": {},
   "outputs": [
    {
     "name": "stdout",
     "output_type": "stream",
     "text": [
      "词典中包含 5697 个单词\n",
      "339\n",
      "2231\n"
     ]
    }
   ],
   "source": [
    "#建立词典 词典中的每一个item()是 word:[id, freq]\n",
    "from collections import Counter\n",
    "def build_vocab(all_words):\n",
    "    cnt = Counter(all_words) #得到一个字典 word:freq\n",
    "    res = {}\n",
    "    for word,freq in cnt.items():\n",
    "        res[word] = [len(res), freq]\n",
    "    return res\n",
    "print(\"词典中包含 \" + str(len(build_vocab(all_words))) + \" 个单词\" )\n",
    "voc = build_vocab(all_words)\n",
    "                  \n",
    "def id2word(id,voc):\n",
    "    for word,lst in voc.items():\n",
    "        if lst[0] == id:\n",
    "            return word\n",
    "def word2id(word,voc):\n",
    "    return voc[word][0]\n",
    "print(id2word(2,voc))\n",
    "print(word2id('667',voc))"
   ]
  }
 ],
 "metadata": {
  "kernelspec": {
   "display_name": "Python 3",
   "language": "python",
   "name": "python3"
  },
  "language_info": {
   "codemirror_mode": {
    "name": "ipython",
    "version": 3
   },
   "file_extension": ".py",
   "mimetype": "text/x-python",
   "name": "python",
   "nbconvert_exporter": "python",
   "pygments_lexer": "ipython3",
   "version": "3.7.4"
  }
 },
 "nbformat": 4,
 "nbformat_minor": 4
}
